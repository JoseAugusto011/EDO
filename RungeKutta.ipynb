{
 "cells": [
  {
   "cell_type": "code",
   "execution_count": 2,
   "metadata": {},
   "outputs": [],
   "source": [
    "import pandas as pd\n",
    "import matplotlib.pyplot as plt"
   ]
  },
  {
   "cell_type": "code",
   "execution_count": 3,
   "metadata": {},
   "outputs": [],
   "source": [
    "def f_expr(expression):\n",
    "    #Função para criar uma função a partir de uma expressão\n",
    "    ## Entrada: expressão em formato de string\n",
    "    ## Saída: função em formato de lambda\n",
    "    \n",
    "    return eval(f'lambda x, y: {expression}')   "
   ]
  },
  {
   "cell_type": "code",
   "execution_count": 4,
   "metadata": {},
   "outputs": [],
   "source": [
    "def InterpretacaoGrafica(x,y):\n",
    "    \n",
    "    plt.figure(figsize=(10,10))\n",
    "    plt.grid()\n",
    "    plt.xlabel('x')\n",
    "    plt.ylabel('y')\n",
    "    plt.title('Interpretação Gráfica - Método de Runge Kutta 4° Ordem')\n",
    "    plt.plot(x,y)\n",
    "    plt.show()"
   ]
  },
  {
   "cell_type": "code",
   "execution_count": 5,
   "metadata": {},
   "outputs": [],
   "source": [
    "def InterpretacaoGraficaMultiplasCurvas(t_values, y1_values, y2_values):\n",
    "    \"\"\"\n",
    "    Função para plotar as soluções y1(t) e y2(t) de um sistema de equações diferenciais.\n",
    "    \n",
    "    Parâmetros:\n",
    "        - t_values: Lista de valores de tempo\n",
    "        - y1_values: Lista de valores de y1 correspondentes\n",
    "        - y2_values: Lista de valores de y2 correspondentes\n",
    "    \"\"\"\n",
    "    plt.figure(figsize=(10, 6))\n",
    "    plt.plot(t_values, y1_values, label='$y_1(t)$', color='blue')\n",
    "    plt.plot(t_values, y2_values, label='$y_2(t)$', color='red')\n",
    "    plt.xlabel('Tempo ($t$)')\n",
    "    plt.ylabel('Solução')\n",
    "    plt.title('Soluções das Equações Diferenciais')\n",
    "    plt.legend()\n",
    "    plt.grid(True)\n",
    "    plt.show()\n",
    "\n"
   ]
  },
  {
   "cell_type": "code",
   "execution_count": 6,
   "metadata": {},
   "outputs": [],
   "source": [
    "def runge_kutta_4th_order_single_eq(f, x0, y0, h, n):\n",
    "    \"\"\"\n",
    "    Implementação do método de Runge-Kutta de quarta ordem para resolver uma única equação diferencial.\n",
    "    \n",
    "    Parâmetros:\n",
    "        - f: Função que define a equação diferencial dy/dx = f(x, y)\n",
    "        - x0: Valor inicial de x\n",
    "        - y0: Valor inicial de y correspondente a x0\n",
    "        - h: Tamanho do passo\n",
    "        - n: Número de passos\n",
    "        \n",
    "    Retorna:\n",
    "        - x_values: Lista com os valores de x\n",
    "        - y_values: Lista com os valores de y correspondentes\n",
    "    \"\"\"\n",
    "    x_values = [x0]\n",
    "    y_values = [y0]\n",
    "    \n",
    "    for i in range(n):\n",
    "        k1 = h * f(x_values[-1], y_values[-1])\n",
    "        k2 = h * f(x_values[-1] + h/2, y_values[-1] + k1/2)\n",
    "        k3 = h * f(x_values[-1] + h/2, y_values[-1] + k2/2)\n",
    "        k4 = h * f(x_values[-1] + h, y_values[-1] + k3)\n",
    "        \n",
    "        y_next = y_values[-1] + (k1 + 2*k2 + 2*k3 + k4) / 6\n",
    "        x_next = x_values[-1] + h\n",
    "        \n",
    "        x_values.append(x_next)\n",
    "        y_values.append(y_next)\n",
    "    \n",
    "    return x_values, y_values"
   ]
  },
  {
   "cell_type": "code",
   "execution_count": 7,
   "metadata": {},
   "outputs": [],
   "source": [
    "def runge_kutta_4th_order_system(f, g, t0, x0, y0, h, n):\n",
    "    \"\"\"\n",
    "    Implementação do método de Runge-Kutta de quarta ordem para resolver um sistema de duas equações diferenciais.\n",
    "    \n",
    "    Parâmetros:\n",
    "        - f: Função que define a primeira equação diferencial dx/dt = f(t, x, y)\n",
    "        - g: Função que define a segunda equação diferencial dy/dt = g(t, x, y)\n",
    "        - t0: Valor inicial de t\n",
    "        - x0: Valor inicial de x correspondente a t0\n",
    "        - y0: Valor inicial de y correspondente a t0\n",
    "        - h: Tamanho do passo\n",
    "        - n: Número de passos\n",
    "        \n",
    "    Retorna:\n",
    "        - t_values: Lista com os valores de t\n",
    "        - x_values: Lista com os valores de x correspondentes\n",
    "        - y_values: Lista com os valores de y correspondentes\n",
    "    \"\"\"\n",
    "    t_values = [t0]\n",
    "    x_values = [x0]\n",
    "    y_values = [y0]\n",
    "    \n",
    "    for i in range(n):\n",
    "        k1_x = h * f(t_values[-1], x_values[-1], y_values[-1])\n",
    "        k1_y = h * g(t_values[-1], x_values[-1], y_values[-1])\n",
    "        \n",
    "        k2_x = h * f(t_values[-1] + h/2, x_values[-1] + k1_x/2, y_values[-1] + k1_y/2)\n",
    "        k2_y = h * g(t_values[-1] + h/2, x_values[-1] + k1_x/2, y_values[-1] + k1_y/2)\n",
    "        \n",
    "        k3_x = h * f(t_values[-1] + h/2, x_values[-1] + k2_x/2, y_values[-1] + k2_y/2)\n",
    "        k3_y = h * g(t_values[-1] + h/2, x_values[-1] + k2_x/2, y_values[-1] + k2_y/2)\n",
    "        \n",
    "        k4_x = h * f(t_values[-1] + h, x_values[-1] + k3_x, y_values[-1] + k3_y)\n",
    "        k4_y = h * g(t_values[-1] + h, x_values[-1] + k3_x, y_values[-1] + k3_y)\n",
    "        \n",
    "        x_next = x_values[-1] + (k1_x + 2*k2_x + 2*k3_x + k4_x) / 6\n",
    "        y_next = y_values[-1] + (k1_y + 2*k2_y + 2*k3_y + k4_y) / 6\n",
    "        t_next = t_values[-1] + h\n",
    "        \n",
    "        t_values.append(t_next)\n",
    "        x_values.append(x_next)\n",
    "        y_values.append(y_next)\n",
    "    \n",
    "    return t_values, x_values, y_values\n"
   ]
  },
  {
   "attachments": {},
   "cell_type": "markdown",
   "metadata": {},
   "source": [
    "### Calcular a solu¸c˜ao do PVI do Exemplo 1, y′ = x − 2y + 1, com <br> y(0) = 1, no intervalo [0, 1], com m = 10 subintervalos, pelo algoritmo de Runge-Kutta de ordem 4"
   ]
  },
  {
   "attachments": {},
   "cell_type": "markdown",
   "metadata": {},
   "source": [
    "![ExpectedReturnRK](ExpectedReturnRK.jpg)\n"
   ]
  },
  {
   "cell_type": "code",
   "execution_count": 8,
   "metadata": {},
   "outputs": [
    {
     "data": {
      "text/html": [
       "<div>\n",
       "<style scoped>\n",
       "    .dataframe tbody tr th:only-of-type {\n",
       "        vertical-align: middle;\n",
       "    }\n",
       "\n",
       "    .dataframe tbody tr th {\n",
       "        vertical-align: top;\n",
       "    }\n",
       "\n",
       "    .dataframe thead th {\n",
       "        text-align: right;\n",
       "    }\n",
       "</style>\n",
       "<table border=\"1\" class=\"dataframe\">\n",
       "  <thead>\n",
       "    <tr style=\"text-align: right;\">\n",
       "      <th></th>\n",
       "      <th>x</th>\n",
       "      <th>y</th>\n",
       "    </tr>\n",
       "  </thead>\n",
       "  <tbody>\n",
       "    <tr>\n",
       "      <th>0</th>\n",
       "      <td>0.0</td>\n",
       "      <td>1.000000</td>\n",
       "    </tr>\n",
       "    <tr>\n",
       "      <th>1</th>\n",
       "      <td>0.1</td>\n",
       "      <td>0.914050</td>\n",
       "    </tr>\n",
       "    <tr>\n",
       "      <th>2</th>\n",
       "      <td>0.2</td>\n",
       "      <td>0.852743</td>\n",
       "    </tr>\n",
       "    <tr>\n",
       "      <th>3</th>\n",
       "      <td>0.3</td>\n",
       "      <td>0.811613</td>\n",
       "    </tr>\n",
       "    <tr>\n",
       "      <th>4</th>\n",
       "      <td>0.4</td>\n",
       "      <td>0.787001</td>\n",
       "    </tr>\n",
       "    <tr>\n",
       "      <th>5</th>\n",
       "      <td>0.5</td>\n",
       "      <td>0.775914</td>\n",
       "    </tr>\n",
       "    <tr>\n",
       "      <th>6</th>\n",
       "      <td>0.6</td>\n",
       "      <td>0.775900</td>\n",
       "    </tr>\n",
       "    <tr>\n",
       "      <th>7</th>\n",
       "      <td>0.7</td>\n",
       "      <td>0.784952</td>\n",
       "    </tr>\n",
       "    <tr>\n",
       "      <th>8</th>\n",
       "      <td>0.8</td>\n",
       "      <td>0.801426</td>\n",
       "    </tr>\n",
       "    <tr>\n",
       "      <th>9</th>\n",
       "      <td>0.9</td>\n",
       "      <td>0.823978</td>\n",
       "    </tr>\n",
       "    <tr>\n",
       "      <th>10</th>\n",
       "      <td>1.0</td>\n",
       "      <td>0.851505</td>\n",
       "    </tr>\n",
       "  </tbody>\n",
       "</table>\n",
       "</div>"
      ],
      "text/plain": [
       "      x         y\n",
       "0   0.0  1.000000\n",
       "1   0.1  0.914050\n",
       "2   0.2  0.852743\n",
       "3   0.3  0.811613\n",
       "4   0.4  0.787001\n",
       "5   0.5  0.775914\n",
       "6   0.6  0.775900\n",
       "7   0.7  0.784952\n",
       "8   0.8  0.801426\n",
       "9   0.9  0.823978\n",
       "10  1.0  0.851505"
      ]
     },
     "execution_count": 8,
     "metadata": {},
     "output_type": "execute_result"
    }
   ],
   "source": [
    "f = f_expr('x - 2*y + 1')\n",
    "\n",
    "x,y = runge_kutta_4th_order_single_eq(f, 0,1,0.1,10)\n",
    "\n",
    "saida = pd.DataFrame({'x':x,'y':y})\n",
    "\n",
    "saida\n",
    "\n"
   ]
  },
  {
   "cell_type": "code",
   "execution_count": 9,
   "metadata": {},
   "outputs": [
    {
     "data": {
      "image/png": "[encoded data removed]",
      "text/plain": [
       "<Figure size 720x720 with 1 Axes>"
      ]
     },
     "metadata": {
      "needs_background": "light"
     },
     "output_type": "display_data"
    }
   ],
   "source": [
    "InterpretacaoGrafica(x,y)"
   ]
  },
  {
   "attachments": {},
   "cell_type": "markdown",
   "metadata": {},
   "source": [
    "#### Exemplo 4<br><br> y'1 = y1 - y1*y2 <br>  y'2 = -y2 - y1*y2 <br> y1(0) = 2 y2(0) = 1"
   ]
  },
  {
   "cell_type": "code",
   "execution_count": 10,
   "metadata": {},
   "outputs": [
    {
     "data": {
      "text/html": [
       "<div>\n",
       "<style scoped>\n",
       "    .dataframe tbody tr th:only-of-type {\n",
       "        vertical-align: middle;\n",
       "    }\n",
       "\n",
       "    .dataframe tbody tr th {\n",
       "        vertical-align: top;\n",
       "    }\n",
       "\n",
       "    .dataframe thead th {\n",
       "        text-align: right;\n",
       "    }\n",
       "</style>\n",
       "<table border=\"1\" class=\"dataframe\">\n",
       "  <thead>\n",
       "    <tr style=\"text-align: right;\">\n",
       "      <th></th>\n",
       "      <th>t</th>\n",
       "      <th>y1</th>\n",
       "      <th>y2</th>\n",
       "    </tr>\n",
       "  </thead>\n",
       "  <tbody>\n",
       "    <tr>\n",
       "      <th>0</th>\n",
       "      <td>0.0</td>\n",
       "      <td>2.000000</td>\n",
       "      <td>1.000000</td>\n",
       "    </tr>\n",
       "    <tr>\n",
       "      <th>1</th>\n",
       "      <td>0.1</td>\n",
       "      <td>2.027445</td>\n",
       "      <td>0.740151</td>\n",
       "    </tr>\n",
       "    <tr>\n",
       "      <th>2</th>\n",
       "      <td>0.2</td>\n",
       "      <td>2.102194</td>\n",
       "      <td>0.544988</td>\n",
       "    </tr>\n",
       "    <tr>\n",
       "      <th>3</th>\n",
       "      <td>0.3</td>\n",
       "      <td>2.217111</td>\n",
       "      <td>0.397484</td>\n",
       "    </tr>\n",
       "    <tr>\n",
       "      <th>4</th>\n",
       "      <td>0.4</td>\n",
       "      <td>2.368587</td>\n",
       "      <td>0.286063</td>\n",
       "    </tr>\n",
       "    <tr>\n",
       "      <th>5</th>\n",
       "      <td>0.5</td>\n",
       "      <td>2.555060</td>\n",
       "      <td>0.202427</td>\n",
       "    </tr>\n",
       "    <tr>\n",
       "      <th>6</th>\n",
       "      <td>0.6</td>\n",
       "      <td>2.776240</td>\n",
       "      <td>0.140356</td>\n",
       "    </tr>\n",
       "    <tr>\n",
       "      <th>7</th>\n",
       "      <td>0.7</td>\n",
       "      <td>3.032700</td>\n",
       "      <td>0.095025</td>\n",
       "    </tr>\n",
       "    <tr>\n",
       "      <th>8</th>\n",
       "      <td>0.8</td>\n",
       "      <td>3.325660</td>\n",
       "      <td>0.062595</td>\n",
       "    </tr>\n",
       "    <tr>\n",
       "      <th>9</th>\n",
       "      <td>0.9</td>\n",
       "      <td>3.656888</td>\n",
       "      <td>0.039969</td>\n",
       "    </tr>\n",
       "    <tr>\n",
       "      <th>10</th>\n",
       "      <td>1.0</td>\n",
       "      <td>4.028667</td>\n",
       "      <td>0.024644</td>\n",
       "    </tr>\n",
       "  </tbody>\n",
       "</table>\n",
       "</div>"
      ],
      "text/plain": [
       "      t        y1        y2\n",
       "0   0.0  2.000000  1.000000\n",
       "1   0.1  2.027445  0.740151\n",
       "2   0.2  2.102194  0.544988\n",
       "3   0.3  2.217111  0.397484\n",
       "4   0.4  2.368587  0.286063\n",
       "5   0.5  2.555060  0.202427\n",
       "6   0.6  2.776240  0.140356\n",
       "7   0.7  3.032700  0.095025\n",
       "8   0.8  3.325660  0.062595\n",
       "9   0.9  3.656888  0.039969\n",
       "10  1.0  4.028667  0.024644"
      ]
     },
     "execution_count": 10,
     "metadata": {},
     "output_type": "execute_result"
    }
   ],
   "source": [
    "def f_expr(expression):\n",
    "    # Função para criar uma função a partir de uma expressão\n",
    "    # Entrada: expressão em formato de string\n",
    "    # Saída: função em formato de lambda\n",
    "    return eval(f'lambda t, y1, y2: {expression}')\n",
    "\n",
    "\n",
    "# Definição das expressões das funções f(y1, y2) e g(y1, y2)\n",
    "fy1 = f_expr('y1 - y1 * y2')\n",
    "fy2 = f_expr('-y2 - y1 * y2')\n",
    "\n",
    "# Parâmetros do problema\n",
    "t0 = 0\n",
    "x0 = 2\n",
    "y0 = 1\n",
    "h = 0.1  # Tamanho do passo\n",
    "n = 10   # Número de passos\n",
    "\n",
    "# Resolvendo o sistema de equações diferenciais usando o método de Runge-Kutta de quarta ordem\n",
    "t_values, y1_values, y2_values = runge_kutta_4th_order_system(fy1, fy2, t0, x0, y0, h, n)\n",
    "\n",
    "# Criando um DataFrame para exibir os resultados\n",
    "saida = pd.DataFrame({'t': t_values, 'y1': y1_values, 'y2': y2_values})\n",
    "saida"
   ]
  },
  {
   "cell_type": "code",
   "execution_count": 12,
   "metadata": {},
   "outputs": [
    {
     "data": {
      "image/png": "[encoded data removed]",
      "text/plain": [
       "<Figure size 720x432 with 1 Axes>"
      ]
     },
     "metadata": {
      "needs_background": "light"
     },
     "output_type": "display_data"
    }
   ],
   "source": [
    "InterpretacaoGraficaMultiplasCurvas(t_values,y1_values,y2_values)"
   ]
  }
 ],
 "metadata": {
  "kernelspec": {
   "display_name": "Python 3",
   "language": "python",
   "name": "python3"
  },
  "language_info": {
   "codemirror_mode": {
    "name": "ipython",
    "version": 3
   },
   "file_extension": ".py",
   "mimetype": "text/x-python",
   "name": "python",
   "nbconvert_exporter": "python",
   "pygments_lexer": "ipython3",
   "version": "3.9.7"
  },
  "orig_nbformat": 4,
  "vscode": {
   "interpreter": {
    "hash": "c7eff589202d1b081309a21c1fcab32e7bd6b92ee77a4b4c9e08aff7652052eb"
   }
  }
 },
 "nbformat": 4,
 "nbformat_minor": 2
}
