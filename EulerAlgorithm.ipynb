{
 "cells": [
  {
   "attachments": {},
   "cell_type": "markdown",
   "metadata": {},
   "source": [
    "![Algol](EulerAlgol.jpg)\n"
   ]
  },
  {
   "cell_type": "code",
   "execution_count": 37,
   "metadata": {},
   "outputs": [],
   "source": [
    "import pandas as pd\n",
    "import matplotlib.pyplot as plt\n"
   ]
  },
  {
   "cell_type": "code",
   "execution_count": 42,
   "metadata": {},
   "outputs": [],
   "source": [
    "def f_expr(expression):\n",
    "    #Função para criar uma função a partir de uma expressão\n",
    "    ## Entrada: expressão em formato de string\n",
    "    ## Saída: função em formato de lambda\n",
    "    \n",
    "    return eval(f'lambda x, y: {expression}')\n",
    "\n",
    "def InterpretacaoGrafica(x,y):\n",
    "    \n",
    "    plt.figure(figsize=(10,10))\n",
    "    plt.grid()\n",
    "    plt.xlabel('x')\n",
    "    plt.ylabel('y')\n",
    "    plt.title('Interpretação Gráfica - Método de Euler')\n",
    "    plt.plot(x,y)\n",
    "    \n",
    "def InterpretacaoGraficaMultiplasCurvas(x,y):\n",
    "    \n",
    "    #Função para plotar múltiplas curvas em um mesmo gráfico\n",
    "    # y é uma lista de listas, onde cada lista é um conjunto de pontos y para uma curva\n",
    "    \n",
    "    plt.figure(figsize=(10,10))\n",
    "    plt.grid()\n",
    "    plt.xlabel('x')\n",
    "    plt.ylabel('y')\n",
    "    plt.title('Interpretação Gráfica - Método de Euler')\n",
    "    for i in range(len(y)):\n",
    "        plt.plot(x,y[i])\n",
    "    \n",
    "    "
   ]
  },
  {
   "cell_type": "code",
   "execution_count": 22,
   "metadata": {},
   "outputs": [],
   "source": [
    "def MetodoEulerEquacaoDiferencial(a, b, m, y0, f):\n",
    "    # Recebe os valores dos intervalos a e b, o número de subintervalos m, o valor inicial y0 e a função f(x, y)\n",
    "    # Realiza o método de Euler para a resolução de EDOs\n",
    "    # Retorna um DataFrame com os valores de x, y e f(x,y)\n",
    "\n",
    "    # Vetores de tamanho m para guardar os valores de x, y e f(x,y)\n",
    "    Vetx = []\n",
    "    Vety = []\n",
    "    Fxy = []\n",
    "\n",
    "    x = a\n",
    "    y = y0\n",
    "\n",
    "    h = (b - a) / m  # Tamanho do passo\n",
    "\n",
    "    Fxy.append(f(x, y))\n",
    "    Vetx.append(x)\n",
    "    Vety.append(y)\n",
    "\n",
    "    for i in range(1, m + 1):\n",
    "        x = a + i * h\n",
    "        y = y + h * Fxy[i - 1]\n",
    "        Fxy.append(f(x, y))\n",
    "        Vetx.append(x)\n",
    "        Vety.append(y)\n",
    "\n",
    "    # Retorna um DataFrame com os valores de x, y e f(x,y)\n",
    "    return pd.DataFrame({'x': Vetx, 'y': Vety, 'f(x,y)': Fxy})\n",
    "\n"
   ]
  },
  {
   "cell_type": "code",
   "execution_count": 43,
   "metadata": {},
   "outputs": [],
   "source": [
    "def MetodoEulerSistemaEquacoes(a,b,m,y01,y02,f1,f2):\n",
    "    # Recebe os valores dos intervalos a e b, o número de subintervalos m, os valores iniciais y01 e y02 e as funções f1(x, y) e f2(x, y)\n",
    "    # Realiza o método de Euler para a resolução de sistemas de EDOs\n",
    "    # Retorna um DataFrame com os valores de x, y1, y2, f1(x,y) e f2(x,y)\n",
    "\n",
    "    # Vetores de tamanho m para guardar os valores de x, y1, y2, f1(x,y) e f2(x,y)\n",
    "    Vetx = []\n",
    "    Vety1 = []\n",
    "    Vety2 = []\n",
    "    Fxy1 = []\n",
    "    Fxy2 = []\n",
    "\n",
    "    x = a\n",
    "    y1 = y01\n",
    "    y2 = y02\n",
    "\n",
    "    h = (b - a) / m  # Tamanho do passo\n",
    "\n",
    "    Fxy1.append(f1( y1, y2))\n",
    "    Fxy2.append(f2( y1, y2))\n",
    "    Vetx.append(x)\n",
    "    Vety1.append(y1)\n",
    "    Vety2.append(y2)\n",
    "\n",
    "    for i in range(1, m + 1):\n",
    "        x = a + i * h\n",
    "        y1 = Vety1[i-1] + h * Fxy1[i - 1]\n",
    "        y2 = Vety2[i-1] + h * Fxy2[i - 1]\n",
    "        Fxy1.append(f1( y1, y2))\n",
    "        Fxy2.append(f2( y1, y2))\n",
    "        Vetx.append(x)\n",
    "        Vety1.append(y1)\n",
    "        Vety2.append(y2)\n",
    "\n",
    "    # Retorna um DataFrame com os valores de x, y1, y2, f1(x,y) e f2(x,y)\n",
    "    return pd.DataFrame({'x': Vetx, 'y1': Vety1, 'y2': Vety2, 'f1(x,y)': Fxy1, 'f2(x,y)': Fxy2})"
   ]
  },
  {
   "attachments": {},
   "cell_type": "markdown",
   "metadata": {},
   "source": [
    "![ExpectedReturn](ExpectedReturn.jpg)\n"
   ]
  },
  {
   "cell_type": "code",
   "execution_count": 44,
   "metadata": {},
   "outputs": [
    {
     "data": {
      "text/html": [
       "<div>\n",
       "<style scoped>\n",
       "    .dataframe tbody tr th:only-of-type {\n",
       "        vertical-align: middle;\n",
       "    }\n",
       "\n",
       "    .dataframe tbody tr th {\n",
       "        vertical-align: top;\n",
       "    }\n",
       "\n",
       "    .dataframe thead th {\n",
       "        text-align: right;\n",
       "    }\n",
       "</style>\n",
       "<table border=\"1\" class=\"dataframe\">\n",
       "  <thead>\n",
       "    <tr style=\"text-align: right;\">\n",
       "      <th></th>\n",
       "      <th>x</th>\n",
       "      <th>y</th>\n",
       "      <th>f(x,y)</th>\n",
       "    </tr>\n",
       "  </thead>\n",
       "  <tbody>\n",
       "    <tr>\n",
       "      <th>0</th>\n",
       "      <td>0.0</td>\n",
       "      <td>1.000000</td>\n",
       "      <td>-1.000000</td>\n",
       "    </tr>\n",
       "    <tr>\n",
       "      <th>1</th>\n",
       "      <td>0.1</td>\n",
       "      <td>0.900000</td>\n",
       "      <td>-0.700000</td>\n",
       "    </tr>\n",
       "    <tr>\n",
       "      <th>2</th>\n",
       "      <td>0.2</td>\n",
       "      <td>0.830000</td>\n",
       "      <td>-0.460000</td>\n",
       "    </tr>\n",
       "    <tr>\n",
       "      <th>3</th>\n",
       "      <td>0.3</td>\n",
       "      <td>0.784000</td>\n",
       "      <td>-0.268000</td>\n",
       "    </tr>\n",
       "    <tr>\n",
       "      <th>4</th>\n",
       "      <td>0.4</td>\n",
       "      <td>0.757200</td>\n",
       "      <td>-0.114400</td>\n",
       "    </tr>\n",
       "    <tr>\n",
       "      <th>5</th>\n",
       "      <td>0.5</td>\n",
       "      <td>0.745760</td>\n",
       "      <td>0.008480</td>\n",
       "    </tr>\n",
       "    <tr>\n",
       "      <th>6</th>\n",
       "      <td>0.6</td>\n",
       "      <td>0.746608</td>\n",
       "      <td>0.106784</td>\n",
       "    </tr>\n",
       "    <tr>\n",
       "      <th>7</th>\n",
       "      <td>0.7</td>\n",
       "      <td>0.757286</td>\n",
       "      <td>0.185427</td>\n",
       "    </tr>\n",
       "    <tr>\n",
       "      <th>8</th>\n",
       "      <td>0.8</td>\n",
       "      <td>0.775829</td>\n",
       "      <td>0.248342</td>\n",
       "    </tr>\n",
       "    <tr>\n",
       "      <th>9</th>\n",
       "      <td>0.9</td>\n",
       "      <td>0.800663</td>\n",
       "      <td>0.298673</td>\n",
       "    </tr>\n",
       "    <tr>\n",
       "      <th>10</th>\n",
       "      <td>1.0</td>\n",
       "      <td>0.830531</td>\n",
       "      <td>0.338939</td>\n",
       "    </tr>\n",
       "  </tbody>\n",
       "</table>\n",
       "</div>"
      ],
      "text/plain": [
       "      x         y    f(x,y)\n",
       "0   0.0  1.000000 -1.000000\n",
       "1   0.1  0.900000 -0.700000\n",
       "2   0.2  0.830000 -0.460000\n",
       "3   0.3  0.784000 -0.268000\n",
       "4   0.4  0.757200 -0.114400\n",
       "5   0.5  0.745760  0.008480\n",
       "6   0.6  0.746608  0.106784\n",
       "7   0.7  0.757286  0.185427\n",
       "8   0.8  0.775829  0.248342\n",
       "9   0.9  0.800663  0.298673\n",
       "10  1.0  0.830531  0.338939"
      ]
     },
     "execution_count": 44,
     "metadata": {},
     "output_type": "execute_result"
    }
   ],
   "source": [
    "# Exemplo de uso com a função definida como uma string\n",
    "\n",
    "F = \"x - 2*y + 1\" \n",
    "saida  = MetodoEulerEquacaoDiferencial(0, 1, 10, 1, f_expr(F))\n",
    "saida\n",
    "\n"
   ]
  },
  {
   "cell_type": "code",
   "execution_count": 45,
   "metadata": {},
   "outputs": [
    {
     "data": {
      "image/png": "[encoded data removed]",
      "text/plain": [
       "<Figure size 720x720 with 1 Axes>"
      ]
     },
     "metadata": {
      "needs_background": "light"
     },
     "output_type": "display_data"
    }
   ],
   "source": [
    "InterpretacaoGrafica(saida['x'],saida['y'])"
   ]
  },
  {
   "cell_type": "code",
   "execution_count": 46,
   "metadata": {},
   "outputs": [
    {
     "data": {
      "text/html": [
       "<div>\n",
       "<style scoped>\n",
       "    .dataframe tbody tr th:only-of-type {\n",
       "        vertical-align: middle;\n",
       "    }\n",
       "\n",
       "    .dataframe tbody tr th {\n",
       "        vertical-align: top;\n",
       "    }\n",
       "\n",
       "    .dataframe thead th {\n",
       "        text-align: right;\n",
       "    }\n",
       "</style>\n",
       "<table border=\"1\" class=\"dataframe\">\n",
       "  <thead>\n",
       "    <tr style=\"text-align: right;\">\n",
       "      <th></th>\n",
       "      <th>x</th>\n",
       "      <th>y1</th>\n",
       "      <th>y2</th>\n",
       "      <th>f1(x,y)</th>\n",
       "      <th>f2(x,y)</th>\n",
       "    </tr>\n",
       "  </thead>\n",
       "  <tbody>\n",
       "    <tr>\n",
       "      <th>0</th>\n",
       "      <td>0.0</td>\n",
       "      <td>1.0</td>\n",
       "      <td>-1.0</td>\n",
       "      <td>1.00</td>\n",
       "      <td>2.0</td>\n",
       "    </tr>\n",
       "    <tr>\n",
       "      <th>1</th>\n",
       "      <td>0.5</td>\n",
       "      <td>1.5</td>\n",
       "      <td>0.0</td>\n",
       "      <td>-0.00</td>\n",
       "      <td>3.0</td>\n",
       "    </tr>\n",
       "    <tr>\n",
       "      <th>2</th>\n",
       "      <td>1.0</td>\n",
       "      <td>1.5</td>\n",
       "      <td>1.5</td>\n",
       "      <td>-2.25</td>\n",
       "      <td>3.0</td>\n",
       "    </tr>\n",
       "  </tbody>\n",
       "</table>\n",
       "</div>"
      ],
      "text/plain": [
       "     x   y1   y2  f1(x,y)  f2(x,y)\n",
       "0  0.0  1.0 -1.0     1.00      2.0\n",
       "1  0.5  1.5  0.0    -0.00      3.0\n",
       "2  1.0  1.5  1.5    -2.25      3.0"
      ]
     },
     "execution_count": 46,
     "metadata": {},
     "output_type": "execute_result"
    }
   ],
   "source": [
    "FX1 = \"-x*y\"\n",
    "FX2 = \"2*x\"\n",
    "\n",
    "saida = MetodoEulerSistemaEquacoes(0, 1, 2, 1, -1, f_expr(FX1), f_expr(FX2))\n",
    "saida"
   ]
  },
  {
   "cell_type": "code",
   "execution_count": 47,
   "metadata": {},
   "outputs": [
    {
     "data": {
      "image/png": "[encoded data removed]",
      "text/plain": [
       "<Figure size 720x720 with 1 Axes>"
      ]
     },
     "metadata": {
      "needs_background": "light"
     },
     "output_type": "display_data"
    }
   ],
   "source": [
    "InterpretacaoGraficaMultiplasCurvas(saida['x'],[saida['y1'],saida['y2']])"
   ]
  }
 ],
 "metadata": {
  "kernelspec": {
   "display_name": "Python 3",
   "language": "python",
   "name": "python3"
  },
  "language_info": {
   "codemirror_mode": {
    "name": "ipython",
    "version": 3
   },
   "file_extension": ".py",
   "mimetype": "text/x-python",
   "name": "python",
   "nbconvert_exporter": "python",
   "pygments_lexer": "ipython3",
   "version": "3.9.7"
  },
  "orig_nbformat": 4,
  "vscode": {
   "interpreter": {
    "hash": "c7eff589202d1b081309a21c1fcab32e7bd6b92ee77a4b4c9e08aff7652052eb"
   }
  }
 },
 "nbformat": 4,
 "nbformat_minor": 2
}
